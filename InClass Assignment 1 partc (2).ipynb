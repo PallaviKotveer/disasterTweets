{
 "cells": [
  {
   "cell_type": "code",
   "execution_count": 66,
   "metadata": {},
   "outputs": [
    {
     "name": "stderr",
     "output_type": "stream",
     "text": [
      "[nltk_data] Downloading package punkt to C:\\Users\\NIAR\n",
      "[nltk_data]     Tech\\AppData\\Roaming\\nltk_data...\n",
      "[nltk_data]   Package punkt is already up-to-date!\n",
      "[nltk_data] Downloading package stopwords to C:\\Users\\NIAR\n",
      "[nltk_data]     Tech\\AppData\\Roaming\\nltk_data...\n",
      "[nltk_data]   Package stopwords is already up-to-date!\n",
      "[nltk_data] Downloading package wordnet to C:\\Users\\NIAR\n",
      "[nltk_data]     Tech\\AppData\\Roaming\\nltk_data...\n",
      "[nltk_data]   Package wordnet is already up-to-date!\n"
     ]
    },
    {
     "data": {
      "text/html": [
       "<div>\n",
       "<style scoped>\n",
       "    .dataframe tbody tr th:only-of-type {\n",
       "        vertical-align: middle;\n",
       "    }\n",
       "\n",
       "    .dataframe tbody tr th {\n",
       "        vertical-align: top;\n",
       "    }\n",
       "\n",
       "    .dataframe thead th {\n",
       "        text-align: right;\n",
       "    }\n",
       "</style>\n",
       "<table border=\"1\" class=\"dataframe\">\n",
       "  <thead>\n",
       "    <tr style=\"text-align: right;\">\n",
       "      <th></th>\n",
       "      <th>id</th>\n",
       "      <th>keyword</th>\n",
       "      <th>location</th>\n",
       "      <th>text</th>\n",
       "      <th>target</th>\n",
       "    </tr>\n",
       "  </thead>\n",
       "  <tbody>\n",
       "    <tr>\n",
       "      <th>0</th>\n",
       "      <td>0</td>\n",
       "      <td>ablaze</td>\n",
       "      <td>NaN</td>\n",
       "      <td>Communal violence in Bhainsa, Telangana. \"Ston...</td>\n",
       "      <td>1</td>\n",
       "    </tr>\n",
       "    <tr>\n",
       "      <th>1</th>\n",
       "      <td>1</td>\n",
       "      <td>ablaze</td>\n",
       "      <td>NaN</td>\n",
       "      <td>Telangana: Section 144 has been imposed in Bha...</td>\n",
       "      <td>1</td>\n",
       "    </tr>\n",
       "    <tr>\n",
       "      <th>2</th>\n",
       "      <td>2</td>\n",
       "      <td>ablaze</td>\n",
       "      <td>New York City</td>\n",
       "      <td>Arsonist sets cars ablaze at dealership https:...</td>\n",
       "      <td>1</td>\n",
       "    </tr>\n",
       "    <tr>\n",
       "      <th>3</th>\n",
       "      <td>3</td>\n",
       "      <td>ablaze</td>\n",
       "      <td>Morgantown, WV</td>\n",
       "      <td>Arsonist sets cars ablaze at dealership https:...</td>\n",
       "      <td>1</td>\n",
       "    </tr>\n",
       "    <tr>\n",
       "      <th>4</th>\n",
       "      <td>4</td>\n",
       "      <td>ablaze</td>\n",
       "      <td>NaN</td>\n",
       "      <td>\"Lord Jesus, your love brings freedom and pard...</td>\n",
       "      <td>0</td>\n",
       "    </tr>\n",
       "    <tr>\n",
       "      <th>...</th>\n",
       "      <td>...</td>\n",
       "      <td>...</td>\n",
       "      <td>...</td>\n",
       "      <td>...</td>\n",
       "      <td>...</td>\n",
       "    </tr>\n",
       "    <tr>\n",
       "      <th>11365</th>\n",
       "      <td>11365</td>\n",
       "      <td>wrecked</td>\n",
       "      <td>Blue State in a red sea</td>\n",
       "      <td>Media should have warned us well in advance. T...</td>\n",
       "      <td>0</td>\n",
       "    </tr>\n",
       "    <tr>\n",
       "      <th>11366</th>\n",
       "      <td>11366</td>\n",
       "      <td>wrecked</td>\n",
       "      <td>arohaonces</td>\n",
       "      <td>i feel directly attacked 💀 i consider moonbin ...</td>\n",
       "      <td>0</td>\n",
       "    </tr>\n",
       "    <tr>\n",
       "      <th>11367</th>\n",
       "      <td>11367</td>\n",
       "      <td>wrecked</td>\n",
       "      <td>🇵🇭</td>\n",
       "      <td>i feel directly attacked 💀 i consider moonbin ...</td>\n",
       "      <td>0</td>\n",
       "    </tr>\n",
       "    <tr>\n",
       "      <th>11368</th>\n",
       "      <td>11368</td>\n",
       "      <td>wrecked</td>\n",
       "      <td>auroraborealis</td>\n",
       "      <td>ok who remember \"outcast\" nd the \"dora\" au?? T...</td>\n",
       "      <td>0</td>\n",
       "    </tr>\n",
       "    <tr>\n",
       "      <th>11369</th>\n",
       "      <td>11369</td>\n",
       "      <td>wrecked</td>\n",
       "      <td>NaN</td>\n",
       "      <td>Jake Corway wrecked while running 14th at IRP.</td>\n",
       "      <td>1</td>\n",
       "    </tr>\n",
       "  </tbody>\n",
       "</table>\n",
       "<p>11370 rows × 5 columns</p>\n",
       "</div>"
      ],
      "text/plain": [
       "          id  keyword                 location  \\\n",
       "0          0   ablaze                      NaN   \n",
       "1          1   ablaze                      NaN   \n",
       "2          2   ablaze            New York City   \n",
       "3          3   ablaze           Morgantown, WV   \n",
       "4          4   ablaze                      NaN   \n",
       "...      ...      ...                      ...   \n",
       "11365  11365  wrecked  Blue State in a red sea   \n",
       "11366  11366  wrecked               arohaonces   \n",
       "11367  11367  wrecked                       🇵🇭   \n",
       "11368  11368  wrecked           auroraborealis   \n",
       "11369  11369  wrecked                      NaN   \n",
       "\n",
       "                                                    text  target  \n",
       "0      Communal violence in Bhainsa, Telangana. \"Ston...       1  \n",
       "1      Telangana: Section 144 has been imposed in Bha...       1  \n",
       "2      Arsonist sets cars ablaze at dealership https:...       1  \n",
       "3      Arsonist sets cars ablaze at dealership https:...       1  \n",
       "4      \"Lord Jesus, your love brings freedom and pard...       0  \n",
       "...                                                  ...     ...  \n",
       "11365  Media should have warned us well in advance. T...       0  \n",
       "11366  i feel directly attacked 💀 i consider moonbin ...       0  \n",
       "11367  i feel directly attacked 💀 i consider moonbin ...       0  \n",
       "11368  ok who remember \"outcast\" nd the \"dora\" au?? T...       0  \n",
       "11369     Jake Corway wrecked while running 14th at IRP.       1  \n",
       "\n",
       "[11370 rows x 5 columns]"
      ]
     },
     "execution_count": 66,
     "metadata": {},
     "output_type": "execute_result"
    }
   ],
   "source": [
    "import nltk\n",
    "from nltk.corpus import stopwords\n",
    "nltk.download('punkt')\n",
    "nltk.download('stopwords')\n",
    "nltk.download('wordnet')\n",
    "from nltk.tokenize import word_tokenize\n",
    "from nltk.tokenize import RegexpTokenizer\n",
    "from sklearn.feature_extraction.text import TfidfVectorizer,CountVectorizer\n",
    "import pandas as pd\n",
    "import matplotlib.pyplot as plt\n",
    "import seaborn as sns\n",
    "data = pd.read_csv(\"tweets.csv\")\n",
    "data.shape\n",
    "data"
   ]
  },
  {
   "cell_type": "code",
   "execution_count": 27,
   "metadata": {},
   "outputs": [
    {
     "data": {
      "image/png": "[encoded data removed]",
      "text/plain": [
       "<Figure size 432x504 with 1 Axes>"
      ]
     },
     "metadata": {
      "needs_background": "light"
     },
     "output_type": "display_data"
    }
   ],
   "source": [
    "\n",
    "plt.figure(figsize=(6, 7))\n",
    "plt.title(\"Class Distribution in the dataset\")\n",
    "plot= sns.countplot(data[\"target\"], \n",
    "                   order = data[\"target\"].value_counts().index)\n",
    "\n",
    "for p in plot.patches:\n",
    "    plot.annotate(format(p.get_height(), '.2f'), (p.get_x() + p.get_width() / 2., p.get_height()), ha = 'center', va = 'center', xytext = (0, 10), textcoords = 'offset points')"
   ]
  },
  {
   "cell_type": "code",
   "execution_count": 65,
   "metadata": {},
   "outputs": [
    {
     "name": "stdout",
     "output_type": "stream",
     "text": [
      "id             0\n",
      "keyword        0\n",
      "location    3418\n",
      "text           0\n",
      "target         0\n",
      "dtype: int64\n",
      "No missing values in target and text column\n"
     ]
    }
   ],
   "source": [
    "# checking for missing values in target and text\n",
    "print(data.isnull().sum())\n",
    "print('No missing values in target and text column')"
   ]
  },
  {
   "cell_type": "code",
   "execution_count": 68,
   "metadata": {},
   "outputs": [
    {
     "name": "stdout",
     "output_type": "stream",
     "text": [
      "0        communal violence in bhainsa telangana stones ...\n",
      "1        telangana section  has been imposed in bhainsa...\n",
      "2                 arsonist sets cars ablaze at dealership \n",
      "3                arsonist sets cars ablaze at dealership  \n",
      "4        lord jesus your love brings freedom and pardon...\n",
      "                               ...                        \n",
      "11365    media should have warned us well in advance th...\n",
      "11366     feel directly attacked   consider moonbin amp...\n",
      "11367     feel directly attacked   consider moonbin amp...\n",
      "11368    ok who remember outcast nd the dora au those a...\n",
      "11369          jake corway wrecked while running th at irp\n",
      "Name: text, Length: 11370, dtype: object\n"
     ]
    }
   ],
   "source": [
    "import re\n",
    "from nltk. stem import PorterStemmer\n",
    "\n",
    "# function that is used to process the data\n",
    "def cleaned(text):\n",
    "    # removes new line\n",
    "    text = re.sub(r\"\\n\",\"\",text)\n",
    "    # converting text to lowercase\n",
    "    text = text.lower()\n",
    "    #Removes punctuation\n",
    "    text = re.sub(r'[^\\w\\s]','',text) \n",
    "    #Removes digits\n",
    "    text = re.sub(r\"\\d\",\"\",text)        \n",
    "    # removes non-ascii\n",
    "    text = re.sub(r'[^\\x00-\\x7f]',r' ',text) \n",
    "    #Removes http\n",
    "    text = re.sub(r'http\\S+|www.\\S+', '', text) \n",
    "    # Remove atastope\n",
    "    text = re.sub(\"'\", \"\", text)\n",
    "    #Remove single character\n",
    "    text = re.sub(r\"\\b[a-zA-Z]\\b\", \"\", text)   \n",
    "    return text\n",
    "\n",
    "print(data['text'].apply(lambda x : cleaned(x)))\n"
   ]
  },
  {
   "cell_type": "code",
   "execution_count": 35,
   "metadata": {},
   "outputs": [
    {
     "name": "stdout",
     "output_type": "stream",
     "text": [
      "TRAIN: [11300   922  3473 ... 10851  8646  1966] TEST: [ 5917 10117  5597 ...  4092   644  2878]\n"
     ]
    }
   ],
   "source": [
    "#Splitting the dataset into training set and testing set\n",
    "\n",
    "from sklearn.model_selection import StratifiedShuffleSplit\n",
    "sss = StratifiedShuffleSplit(n_splits=1, test_size=0.3, random_state=42)\n",
    "train_text=data['text'].apply(lambda x : cleaned(x))\n",
    "X = train_text.to_numpy()\n",
    "y = data['target'].to_numpy()\n",
    "for train_index, test_index in sss.split(X, y):\n",
    "    print(\"TRAIN:\", train_index, \"TEST:\", test_index)\n",
    "    #X_train = X.loc[train_index]\n",
    "    X_train, X_test = X[train_index], X[test_index]\n",
    "\n",
    "    y_train, y_test = y[train_index], y[test_index]"
   ]
  },
  {
   "cell_type": "code",
   "execution_count": 36,
   "metadata": {},
   "outputs": [
    {
     "name": "stdout",
     "output_type": "stream",
     "text": [
      "  (0, 16639)\t0.3309713767961625\n",
      "  (0, 14551)\t0.28633502965970836\n",
      "  (0, 13628)\t0.3165245247001326\n",
      "  (0, 13092)\t0.25688020644821985\n",
      "  (0, 12775)\t0.3309713767961625\n",
      "  (0, 10004)\t0.30627432001351496\n",
      "  (0, 9584)\t0.29832364357415225\n",
      "  (0, 3213)\t0.29832364357415225\n",
      "  (0, 2445)\t0.30627432001351496\n",
      "  (0, 1684)\t0.28633502965970836\n",
      "  (0, 1319)\t0.29182746791748504\n",
      "  (1, 16811)\t0.2615941150166046\n",
      "  (1, 15968)\t0.3287936627501556\n",
      "  (1, 15125)\t0.3226054896316673\n",
      "  (1, 13923)\t0.3044611506262364\n",
      "  (1, 10867)\t0.37289598549044606\n",
      "  (1, 10043)\t0.37289598549044606\n",
      "  (1, 6532)\t0.37289598549044606\n",
      "  (1, 6415)\t0.356619130368616\n",
      "  (1, 3824)\t0.28698588817803516\n",
      "  (2, 16417)\t0.3786996439133274\n",
      "  (2, 15475)\t0.21387071070387487\n",
      "  (2, 13460)\t0.26319392753251747\n",
      "  (2, 12452)\t0.34134389108226887\n",
      "  (2, 9116)\t0.3056523876911783\n",
      "  :\t:\n",
      "  (7956, 17434)\t0.3140374326504661\n",
      "  (7956, 16771)\t0.26000716865617507\n",
      "  (7956, 9575)\t0.2867932978444509\n",
      "  (7956, 9142)\t0.36622245771536127\n",
      "  (7956, 7476)\t0.1954298045530922\n",
      "  (7956, 6631)\t0.4233123386536994\n",
      "  (7956, 6416)\t0.24689715848075275\n",
      "  (7956, 6066)\t0.30144824157670885\n",
      "  (7956, 4469)\t0.40483481710439356\n",
      "  (7956, 62)\t0.2903460969231312\n",
      "  (7957, 12899)\t0.2850301929589909\n",
      "  (7957, 10077)\t0.29211151905429034\n",
      "  (7957, 8978)\t0.5050133809839901\n",
      "  (7957, 8901)\t0.17655504218882712\n",
      "  (7957, 2447)\t0.34065301557250843\n",
      "  (7957, 670)\t0.3549158792093585\n",
      "  (7957, 150)\t0.5524569605940182\n",
      "  (7958, 13186)\t0.387250165130258\n",
      "  (7958, 8709)\t0.40021042068591967\n",
      "  (7958, 5403)\t0.34167691746849826\n",
      "  (7958, 5194)\t0.31949054677245436\n",
      "  (7958, 4009)\t0.4184768749533003\n",
      "  (7958, 2456)\t0.3125459631645373\n",
      "  (7958, 2369)\t0.2980048219156397\n",
      "  (7958, 169)\t0.330812417431918\n"
     ]
    }
   ],
   "source": [
    "#Tfid for vectorizing\n",
    "from sklearn.feature_extraction.text import CountVectorizer,TfidfTransformer\n",
    "from sklearn.pipeline import Pipeline\n",
    "tweets_pipeline = Pipeline([('CVec', CountVectorizer(stop_words='english')),\n",
    "                     ('Tfidf', TfidfTransformer())])\n",
    "\n",
    "X_train_tranformed = tweets_pipeline.fit_transform(X_train)\n",
    "X_test_tranformed = tweets_pipeline.transform(X_test)\n",
    "print(X_train_tranformed)"
   ]
  },
  {
   "cell_type": "code",
   "execution_count": 42,
   "metadata": {},
   "outputs": [
    {
     "name": "stdout",
     "output_type": "stream",
     "text": [
      "0.7345335558309639\n"
     ]
    }
   ],
   "source": [
    "#Using Random forest classifer to train and predict the data.\n",
    "from time import process_time \n",
    "from sklearn.ensemble import RandomForestClassifier\n",
    "import numpy as np\n",
    "from sklearn.metrics import roc_auc_score,roc_curve\n",
    "df_results = pd.DataFrame(data=np.zeros(shape=(1,3)), columns = ['Classifier', 'Area Under Curve', 'Training time'])\n",
    "count = 0\n",
    "t_start = process_time()\n",
    "clf =  RandomForestClassifier() \n",
    "\n",
    "clf.fit(X_train_tranformed, y_train)\n",
    "t_stop = process_time()\n",
    "t_elapsed = t_stop - t_start\n",
    "y_predicted = clf.predict(X_test_tranformed)\n",
    "false_positive_rate1, true_positive_rate1, threshold1 = roc_curve(y_test, y_predicted)\n",
    "roc_auc = roc_auc_score(y_test, y_predicted)\n",
    "print(roc_auc_score(y_test, y_predicted))\n",
    "df_results.loc[count,'Classifier'] = 'Random Forest Classifier'\n",
    "df_results.loc[count,'Area Under Curve'] = roc_auc_score(y_test, y_predicted)\n",
    "df_results.loc[count,'Training time'] = t_elapsed\n"
   ]
  },
  {
   "cell_type": "code",
   "execution_count": 67,
   "metadata": {},
   "outputs": [
    {
     "name": "stdout",
     "output_type": "stream",
     "text": [
      "                 Classifier  Area Under Curve  Training time\n",
      "0  Random Forest Classifier          0.734534       9.859375\n"
     ]
    }
   ],
   "source": [
    "print(df_results)"
   ]
  },
  {
   "cell_type": "code",
   "execution_count": 44,
   "metadata": {},
   "outputs": [
    {
     "data": {
      "image/png": "[encoded data removed]",
      "text/plain": [
       "<Figure size 432x288 with 1 Axes>"
      ]
     },
     "metadata": {
      "needs_background": "light"
     },
     "output_type": "display_data"
    }
   ],
   "source": [
    "plt.figure()\n",
    "lw = 2\n",
    "plt.plot(false_positive_rate1,true_positive_rate1, color='darkorange',\n",
    "         lw=lw, label='ROC curve (area = %0.2f)' % roc_auc)\n",
    "plt.plot([0, 1], [0, 1], color='navy', lw=lw, linestyle='--')\n",
    "plt.xlim([0.0, 1.0])\n",
    "plt.ylim([0.0, 1.05])\n",
    "plt.xlabel('False Positive Rate')\n",
    "plt.ylabel('True Positive Rate')\n",
    "plt.title('Receiver operating characteristic example')\n",
    "plt.legend(loc=\"lower right\")\n",
    "plt.show()"
   ]
  },
  {
   "cell_type": "code",
   "execution_count": null,
   "metadata": {},
   "outputs": [],
   "source": []
  }
 ],
 "metadata": {
  "kernelspec": {
   "display_name": "Python 3",
   "language": "python",
   "name": "python3"
  },
  "language_info": {
   "codemirror_mode": {
    "name": "ipython",
    "version": 3
   },
   "file_extension": ".py",
   "mimetype": "text/x-python",
   "name": "python",
   "nbconvert_exporter": "python",
   "pygments_lexer": "ipython3",
   "version": "3.7.6"
  }
 },
 "nbformat": 4,
 "nbformat_minor": 4
}
